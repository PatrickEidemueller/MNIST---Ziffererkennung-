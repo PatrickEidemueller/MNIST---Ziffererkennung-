{
 "cells": [
  {
   "cell_type": "code",
   "execution_count": 1,
   "metadata": {},
   "outputs": [],
   "source": [
    "import gzip\n",
    "import os\n",
    "import numpy as np\n",
    "\n",
    "train_data = os.path.join(\"..\", \"data\", \"mnist\", \"train-images-idx3-ubyte.gz\")\n",
    "train_labels = os.path.join(\"..\", \"data\", \"mnist\", \"train-labels-idx1-ubyte.gz\")\n",
    "\n",
    "test_data = os.path.join(\"..\", \"data\", \"mnist\", \"t10k-images-idx3-ubyte.gz\")\n",
    "test_labels = os.path.join(\"..\", \"data\", \"mnist\", \"t10k-labels-idx1-ubyte.gz\")"
   ]
  },
  {
   "cell_type": "code",
   "execution_count": 2,
   "metadata": {},
   "outputs": [],
   "source": [
    "def mnist_images(filename):\n",
    "    with gzip.open(filename, \"rb\") as file:\n",
    "        data = np.frombuffer(file.read(), np.uint8, offset = 16)\n",
    "        return data.reshape(-1, 28, 28) / 255\n",
    "    \n",
    "def mnist_labels(filename):\n",
    "    with gzip.open(filename, \"rb\") as file:\n",
    "        return np.frombuffer(file.read(), np.uint8, offset = 8)\n",
    "\n",
    "X_train = mnist_images(train_data)\n",
    "y_train = mnist_labels(train_labels)\n",
    "\n",
    "X_test = mnist_images(test_data)\n",
    "y_test = mnist_labels(test_labels)"
   ]
  },
  {
   "cell_type": "code",
   "execution_count": 3,
   "metadata": {},
   "outputs": [
    {
     "name": "stdout",
     "output_type": "stream",
     "text": [
      "5\n"
     ]
    },
    {
     "data": {
      "image/png": "[encoded data removed]",
      "text/plain": [
       "<Figure size 432x288 with 1 Axes>"
      ]
     },
     "metadata": {
      "needs_background": "light"
     },
     "output_type": "display_data"
    }
   ],
   "source": [
    "%matplotlib inline\n",
    "\n",
    "import matplotlib.pyplot as plt\n",
    "\n",
    "print(y_train[100])\n",
    "plt.imshow(X_train[100])\n",
    "plt.show()"
   ]
  },
  {
   "cell_type": "code",
   "execution_count": 6,
   "metadata": {},
   "outputs": [
    {
     "name": "stdout",
     "output_type": "stream",
     "text": [
      "0.9995333333333334\n",
      "0.9851\n"
     ]
    }
   ],
   "source": [
    "from sklearn.preprocessing import StandardScaler\n",
    "from sklearn.svm import SVC\n",
    "\n",
    "#Dimension 3 -> 2 \n",
    "X_train_reshape = X_train.reshape(-1,28*28)\n",
    "X_test_reshape = X_test.reshape(-1,28*28)\n",
    "\n",
    "s = StandardScaler()\n",
    "s.fit_transform(X_train_reshape)\n",
    "s.transform(X_test_reshape)\n",
    " \n",
    "model = SVC(\n",
    "    C=3.2,\n",
    "    kernel='rbf',\n",
    "    degree=2,\n",
    "    gamma=0.021,\n",
    "    coef0=0.0,\n",
    "    shrinking=True,\n",
    "    probability=False,\n",
    "    tol=0.0005,\n",
    "    cache_size=500,\n",
    "    class_weight=None,\n",
    "    verbose=False,\n",
    "    max_iter=-1,\n",
    "    decision_function_shape='ovr',\n",
    "    random_state=None,\n",
    ")\n",
    "\n",
    "model.fit(X_train_reshape, y_train)\n",
    "print(model.score(X_train_reshape, y_train))\n",
    "print(model.score(X_test_reshape, y_test))\n",
    " "
   ]
  },
  {
   "cell_type": "code",
   "execution_count": null,
   "metadata": {},
   "outputs": [],
   "source": [
    "from sklearn.linear_model import LogisticRegression\n",
    "\n",
    "model2 = LogisticRegression(solver = \"saga\", n_jobs = 4)\n",
    "model2.fit(X_train_reshape, y_train)\n",
    "\n",
    "model2.score(X_test_reshape, y_test)"
   ]
  },
  {
   "cell_type": "code",
   "execution_count": null,
   "metadata": {
    "collapsed": true
   },
   "outputs": [],
   "source": [
    "from sklearn.ensemble import RandomForestClassifier\n",
    " \n",
    "model3 = RandomForestClassifier(criterion = \"gini\", n_estimators=1000)\n",
    "model3.fit(X_train_reshape, y_train)\n",
    " \n",
    "model3.score(X_test_reshape, y_test)"
   ]
  },
  {
   "cell_type": "code",
   "execution_count": null,
   "metadata": {},
   "outputs": [],
   "source": [
    "%matplotlib tk\n",
    " \n",
    "def get_pixels(canvas):\n",
    "    width = int(canvas[\"width\"])\n",
    "    height = int(canvas[\"height\"])\n",
    "    colors = []\n",
    " \n",
    "    for y in range(0, height, 10):\n",
    "        row = []\n",
    "        for x in range(0, width, 10):\n",
    "            row.append(get_pixel_color(canvas, x, y))\n",
    "        colors.append(row)\n",
    "    return np.array(colors)\n",
    " \n",
    "def get_pixel_color(canvas, x, y):\n",
    "    ids = canvas.find_overlapping(x, y, x, y)\n",
    "    if len(ids) > 0:\n",
    "        return 1.0\n",
    "    return 0.0\n",
    "    \n",
    "from tkinter import *\n",
    " \n",
    "canvas_width = 280\n",
    "canvas_height =280\n",
    " \n",
    "def paint( event ):\n",
    "    # \"Pixel\" in 10facher Vergrößerung zeichnen:\n",
    "    x1, y1 = ( (event.x//10)*10 ), ( (event.y//10)*10 )\n",
    "    x2, y2 = x1+10, y1+10\n",
    "    canvas.create_rectangle( x1, y1, x2, y2, fill = \"#202020\" )\n",
    "    \n",
    "    \n",
    "def antialias(data):\n",
    "    new_data = np.zeros((28,28))\n",
    "    for x in range(1,27):\n",
    "        for y in range(1,27):\n",
    "            new_data[x, y]=(data[x-1, y-1]+data[x, y-1]+data[x+1, y-1]+\n",
    "                               data[x-1, y]+8*data[x, y]+data[x+1, y]+\n",
    "                               data[x-1, y+1]+data[x, y+1]+data[x+1, y+1])/16\n",
    "    return new_data    \n",
    " \n",
    "def clear( event ):\n",
    "    data = antialias(get_pixels(canvas))\n",
    "    plt.imshow(data)\n",
    "    plt.show()\n",
    "    print(\"predict: \", model.predict(data.reshape(-1, 784)))\n",
    "    canvas.delete(ALL)\n",
    "    \n",
    "canvas = Canvas(Tk(), width=canvas_width, height=canvas_height)\n",
    "canvas.pack()\n",
    "canvas.create_text(140, 100, text=\"mit linker Maustaste zeichnen\" )\n",
    "canvas.create_text(140, 140, text=\"mit rechter Maustaste übernehmen\" )\n",
    "canvas.bind('<B1-Motion>', paint)\n",
    "canvas.bind('<Button-3>', clear)\n",
    "mainloop()"
   ]
  },
  {
   "cell_type": "code",
   "execution_count": null,
   "metadata": {},
   "outputs": [],
   "source": []
  }
 ],
 "metadata": {
  "kernelspec": {
   "display_name": "Python 3",
   "language": "python",
   "name": "python3"
  },
  "language_info": {
   "codemirror_mode": {
    "name": "ipython",
    "version": 3
   },
   "file_extension": ".py",
   "mimetype": "text/x-python",
   "name": "python",
   "nbconvert_exporter": "python",
   "pygments_lexer": "ipython3",
   "version": "3.7.3"
  }
 },
 "nbformat": 4,
 "nbformat_minor": 2
}
